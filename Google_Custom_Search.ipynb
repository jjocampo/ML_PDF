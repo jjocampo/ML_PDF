{
 "cells": [
  {
   "cell_type": "markdown",
   "metadata": {},
   "source": [
    "<h1><strong>Searching Google for Machine Learning PDFs</strong></h1>   \n",
    "<img src=\"GoogleSearch.png\">\n",
    "\n",
    "<strong>By:</strong> Jeff Ocampo   \n",
    "<strong>Created:</strong> May 2020   \n",
    "\n",
    "<h3><strong>About</strong></h3>\n",
    "<strong>Q:</strong> What is this doing?   \n",
    "\n",
    "<strong>A:</strong> Searching Google for machine learning PDFs and creating a database of links   \n",
    "\n",
    "<h3><strong>Steps:</strong></h3>\n",
    "<ol>\n",
    "    <li><a href=\"https://developers.google.com/custom-search/v1/overview\">Set up Google Custom Search JSON API</a></li>\n",
    "    <li>Set up SQL database for results</li>\n",
    "    <li>Python for:</li>\n",
    "    <ul>\n",
    "        <li>API call</li>\n",
    "        <li>JSON parse</li>\n",
    "        <li>Insert into SQL tables</li>\n",
    "    </ul>\n",
    "</ol>   \n",
    "\n",
    "<h3><strong>SQL Server Setup</strong></h3>   \n",
    "Use of a SQL database isn't necessary for this project, but is worthwhile if I decide to scale this.   \n",
    "\n",
    "Also, in some ways it is more convenient and organized than working with flat files or other storage methods.   \n",
    "<img src=\"TableCreation.png\">   \n",
    "\n",
    "<h3><strong>Final Results in SQL Tables</strong></h3>   \n",
    "After looping over each page of the search results and parsing out the links, titles, and other information, two tables are populated on the server.   \n",
    "The first table is a search history table with some metadata about the search, include what page and number of results.    \n",
    "The second table is populated with search results.   \n",
    "Google limits Custom Search Results to 100, so that's the max results for a specific set of parameters.   \n",
    "I only show results for the search term \"machine learning\" and the PDF file type.   \n",
    "<img src=\"SearchHist.png\">\n",
    "<img src=\"SearchResults.png\">   \n",
    "\n",
    "<h3><strong>Python Code</strong></h3>   \n",
    "Below is the code used once the Google Custom Search and SQL Server tables were configured.   \n"
   ]
  },
  {
   "cell_type": "markdown",
   "metadata": {},
   "source": [
    "<strong>Packages</strong>"
   ]
  },
  {
   "cell_type": "code",
   "execution_count": 80,
   "metadata": {},
   "outputs": [],
   "source": [
    "import requests\n",
    "import getpass\n",
    "import json\n",
    "import pyodbc\n",
    "import datetime"
   ]
  },
  {
   "cell_type": "markdown",
   "metadata": {},
   "source": [
    "<br>\n",
    "<strong>Variable search term and file type</strong>"
   ]
  },
  {
   "cell_type": "code",
   "execution_count": 118,
   "metadata": {},
   "outputs": [],
   "source": [
    "search_term = 'machine learning'\n",
    "search_file_type = 'PDF'"
   ]
  },
  {
   "cell_type": "markdown",
   "metadata": {},
   "source": [
    "<br>\n",
    "<strong>Other settings</strong>"
   ]
  },
  {
   "cell_type": "code",
   "execution_count": 173,
   "metadata": {},
   "outputs": [
    {
     "name": "stdin",
     "output_type": "stream",
     "text": [
      "Key:  ·······································\n"
     ]
    }
   ],
   "source": [
    "# Hey friend, don't think you need to know my API Key :)\n",
    "api_key = getpass.getpass(\"Key: \")"
   ]
  },
  {
   "cell_type": "code",
   "execution_count": 3,
   "metadata": {},
   "outputs": [
    {
     "name": "stdin",
     "output_type": "stream",
     "text": [
      "Custom search:  ·································\n"
     ]
    }
   ],
   "source": [
    "# Hey friend, don't think you need to know this either :)\n",
    "custom_search_id = getpass.getpass(\"Custom search: \")"
   ]
  },
  {
   "cell_type": "code",
   "execution_count": 66,
   "metadata": {},
   "outputs": [
    {
     "name": "stdin",
     "output_type": "stream",
     "text": [
      "SQL Sever name:  ···············\n"
     ]
    }
   ],
   "source": [
    "# Hey, I just met you, and this is crazy, but here's my server name, so call me, maybe?\n",
    "# ...not showing you this either\n",
    "sql_server = getpass.getpass('SQL Sever name: ')"
   ]
  },
  {
   "cell_type": "code",
   "execution_count": 73,
   "metadata": {},
   "outputs": [],
   "source": [
    "sql_conn = pyodbc.connect('Driver={SQL Server};Server='+sql_server+';Database=GOOGLE_FILES;Trusted_Connection=yes;')\n",
    "sql_cursor = sql_conn.cursor()"
   ]
  },
  {
   "cell_type": "markdown",
   "metadata": {},
   "source": [
    "<br>\n",
    "<strong>Functions</strong>"
   ]
  },
  {
   "cell_type": "code",
   "execution_count": 175,
   "metadata": {},
   "outputs": [],
   "source": [
    "def req_stat(code):\n",
    "    \"\"\"\n",
    "    Simply decodes and prints the requests status code\n",
    "    \"\"\"\n",
    "    if code == 200:\n",
    "        print('Request successful')\n",
    "    elif code == 301:\n",
    "        print('Request redirected')\n",
    "    elif code == 401:\n",
    "        print('Request failed due to authentication')\n",
    "    elif code == 400:\n",
    "        print('Request failed due to bad request')\n",
    "    elif code == 403:\n",
    "        print('Request failed, forbidden')\n",
    "    elif code == 404: \n",
    "        print('Reques failed, not found')\n",
    "    else:\n",
    "        print('Other request status code')\n"
   ]
  },
  {
   "cell_type": "code",
   "execution_count": 176,
   "metadata": {},
   "outputs": [],
   "source": [
    "def get_search_results(search_url, search_params_dic):\n",
    "    \"\"\"\n",
    "    Make the API call and return JSON data\n",
    "    \"\"\"\n",
    "    search_response = requests.get(search_url, params=search_params_dic)\n",
    "    #req_stat(search_response.status_code)\n",
    "    if search_response.status_code == 200:\n",
    "        search_json_data = search_response.json()\n",
    "    \n",
    "    return search_json_data\n",
    "    "
   ]
  },
  {
   "cell_type": "code",
   "execution_count": 177,
   "metadata": {},
   "outputs": [],
   "source": [
    "def search_item_count(json_data):\n",
    "    \"\"\"\n",
    "    Returns the number of items in the JSON data\n",
    "    \"\"\"\n",
    "    item_count = len( json_data[\"items\"])\n",
    "    \n",
    "    return item_count"
   ]
  },
  {
   "cell_type": "code",
   "execution_count": 178,
   "metadata": {},
   "outputs": [],
   "source": [
    "def extract_data(json_data):\n",
    "    \"\"\"\n",
    "    For the JSON data from the request, return data in list format for insertion into SQL Server\n",
    "    \"\"\"\n",
    "    extract_dt = datetime.datetime.now()\n",
    "    results_list = []\n",
    "    for item in json_data[\"items\"]:\n",
    "        title = item[\"title\"]\n",
    "        link = item[\"link\"]\n",
    "        snippet = item[\"snippet\"]\n",
    "        try:\n",
    "            pagemap = json.dumps(item[\"pagemap\"])\n",
    "        except:\n",
    "            pagemap = ''\n",
    "        results_list.append([title, link, snippet, pagemap, extract_dt])\n",
    "    \n",
    "    return results_list\n"
   ]
  },
  {
   "cell_type": "code",
   "execution_count": 179,
   "metadata": {},
   "outputs": [],
   "source": [
    "def prep_hist_data(json_data, search_term, search_file_type, api_parm, item_cnt, search_dt):\n",
    "    \"\"\"\n",
    "    Get data for search hist table insert, including results count\n",
    "    \"\"\"\n",
    "    search_hits = json_data[\"searchInformation\"][\"totalResults\"]\n",
    "    \n",
    "    hist_data = [search_term, search_file_type, api_parm['start'], item_cnt, search_dt,search_hits]\n",
    "    \n",
    "    return hist_data\n",
    "    "
   ]
  },
  {
   "cell_type": "code",
   "execution_count": 180,
   "metadata": {},
   "outputs": [],
   "source": [
    "def sql_hist_insert(hist_list):\n",
    "    \"\"\"\n",
    "    Single line insert into the SEACH_HIST table\n",
    "    \"\"\"\n",
    "    search_hist_query = \"\"\"INSERT INTO DBO.SEARCH_HIST(SEARCH_TERM, SEARCH_FILETYPE, SEARCH_START, SEARCH_ITEM_CNT, SEARCH_DT, SEARCH_RESULTS_CNT) \n",
    "    VALUES (?,?,?,?,?,?)\n",
    "    \"\"\"\n",
    "    sql_cursor.execute( search_hist_query, hist_list)\n",
    "    sql_conn.commit()"
   ]
  },
  {
   "cell_type": "code",
   "execution_count": 181,
   "metadata": {},
   "outputs": [],
   "source": [
    "def sql_results_insert(results_list):\n",
    "    \"\"\"\n",
    "    Multiple line insert into the SEARCH_RESULTS table\n",
    "    \"\"\"\n",
    "    search_results_query = \"\"\"INSERT INTO DBO.SEARCH_RESULTS(TITLE,LINK,SNIPPET,PAGEMAP,ENTRY_DATE) \n",
    "    VALUES (?,?,?,?,?)\n",
    "    \"\"\"\n",
    "    sql_cursor.executemany( search_results_query, results_list)\n",
    "    sql_conn.commit()"
   ]
  },
  {
   "cell_type": "code",
   "execution_count": 182,
   "metadata": {},
   "outputs": [],
   "source": [
    "def main_search(search_term, search_file_type):\n",
    "    \"\"\"\n",
    "    Main function that executes the search and processing into the SQL tables\n",
    "    Iterates over the first 100 (according to https://developers.google.com/custom-search/v1/reference/rest/v1/cse/list#query-parameters, only the first 100 will ever be returned)\n",
    "    \"\"\"\n",
    "    search_dt = datetime.datetime.now()\n",
    "    search_url = 'https://customsearch.googleapis.com/customsearch/v1'\n",
    "    api_parm = {\"key\": api_key, \"cx\": custom_search_id, \"q\": search_term, \"fileType\": search_file_type, \"start\": 1}\n",
    "    \n",
    "    start_list = list(range(1,92,10))\n",
    "\n",
    "    for i in start_list:\n",
    "        \n",
    "        api_parm[\"start\"] = i\n",
    "        \n",
    "        #print('Making request...')\n",
    "        tmp_json_data = get_search_results(search_url, api_parm)\n",
    "\n",
    "        #print('Parsing data...')\n",
    "        tmp_item_cnt = search_item_count(tmp_json_data)\n",
    "        if tmp_item_cnt > 0:\n",
    "            tmp_results_list = extract_data(tmp_json_data)\n",
    "\n",
    "        #print('Formatting search history data...')\n",
    "        tmp_hist_data = prep_hist_data( tmp_json_data, search_term, search_file_type, api_parm, tmp_item_cnt, search_dt)\n",
    "\n",
    "        #print('Saving search history...')\n",
    "        sql_hist_insert(tmp_hist_data)\n",
    "\n",
    "        #print('Saving search results...')\n",
    "        if tmp_item_cnt > 0:\n",
    "            sql_results_insert(tmp_results_list)\n",
    "    "
   ]
  },
  {
   "cell_type": "markdown",
   "metadata": {},
   "source": [
    "<br>\n",
    "<strong>Execute!</strong>"
   ]
  },
  {
   "cell_type": "code",
   "execution_count": 183,
   "metadata": {},
   "outputs": [],
   "source": [
    "main_search(search_term, search_file_type)"
   ]
  }
 ],
 "metadata": {
  "kernelspec": {
   "display_name": "Python 3",
   "language": "python",
   "name": "python3"
  },
  "language_info": {
   "codemirror_mode": {
    "name": "ipython",
    "version": 3
   },
   "file_extension": ".py",
   "mimetype": "text/x-python",
   "name": "python",
   "nbconvert_exporter": "python",
   "pygments_lexer": "ipython3",
   "version": "3.8.3"
  }
 },
 "nbformat": 4,
 "nbformat_minor": 4
}
