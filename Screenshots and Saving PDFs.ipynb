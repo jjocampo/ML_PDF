{
 "cells": [
  {
   "cell_type": "markdown",
   "metadata": {},
   "source": [
    "<h1><strong>Taking Screenshots and Downloading PDFs</strong></h1>   \n",
    "<strong>By: </strong>Jeff Ocampo   \n",
    "\n",
    "<strong>Created: </strong>May 2020   \n",
    "\n",
    "<h3><strong>About</strong></h3>   \n",
    "<strong>Q: </strong>What's this doing?   \n",
    "\n",
    "<strong>A: </strong>Using the database of machine learning PDFs from Google, take screenshots of those PDFs and download some of them.   \n",
    "\n",
    "<h3><strong>Steps</strong></h3>   \n",
    "<ol>\n",
    "    <li>Get list of links from the SQL Server database</li>\n",
    "    <li>Use Selenium to run Google Chrome and take screenshots</li>\n",
    "    <li>Download the first 20 PDFs to a specific folder</li>\n",
    "</ol>   \n",
    "<h3><strong>Python</strong></h3>   \n",
    "    \n",
    "\n"
   ]
  },
  {
   "cell_type": "markdown",
   "metadata": {},
   "source": [
    "<strong>Packages</strong>"
   ]
  },
  {
   "cell_type": "code",
   "execution_count": null,
   "metadata": {},
   "outputs": [],
   "source": [
    "from selenium import webdriver\n",
    "import pyodbc\n",
    "import getpass\n",
    "import time\n",
    "import wget"
   ]
  },
  {
   "cell_type": "markdown",
   "metadata": {},
   "source": [
    "<strong>Get links from SQL Server</strong>"
   ]
  },
  {
   "cell_type": "code",
   "execution_count": null,
   "metadata": {},
   "outputs": [],
   "source": [
    "# Hey, I just met you, and this is crazy, but here's my server name, so call me, maybe?\n",
    "# ...not showing you this either\n",
    "sql_server = getpass.getpass('SQL Sever name: ')"
   ]
  },
  {
   "cell_type": "code",
   "execution_count": null,
   "metadata": {},
   "outputs": [],
   "source": [
    "sql_conn = pyodbc.connect('Driver={SQL Server};Server='+sql_server+';Database=GOOGLE_FILES;Trusted_Connection=yes;')\n",
    "sql_cursor = sql_conn.cursor()"
   ]
  },
  {
   "cell_type": "code",
   "execution_count": null,
   "metadata": {},
   "outputs": [],
   "source": [
    "search_results_query = 'SELECT ID, LINK FROM DBO.SEARCH_RESULTS'"
   ]
  },
  {
   "cell_type": "code",
   "execution_count": null,
   "metadata": {},
   "outputs": [],
   "source": [
    "sql_cursor.execute(search_results_query)\n",
    "ml_pdfs = [item for item in sql_cursor.fetchall()]"
   ]
  },
  {
   "cell_type": "markdown",
   "metadata": {},
   "source": [
    "<strong>Grab screenshots</strong>"
   ]
  },
  {
   "cell_type": "code",
   "execution_count": null,
   "metadata": {},
   "outputs": [],
   "source": [
    "def Load_N_Screenshot(link, file_name):\n",
    "    \"\"\"\n",
    "    Opens a new Chrome browser window, loads the link, takes a screenshot, saves it, and closes. \n",
    "    \"\"\"\n",
    "    sel_options = webdriver.ChromeOptions()\n",
    "    sel_options.add_argument('--ignore-certificate-errors')\n",
    "    sel_options.add_argument(\"--test-type\")\n",
    "    driver = webdriver.Chrome(executable_path=\"c:\\drivers\\chromedriver.exe\",options=sel_options)\n",
    "    \n",
    "    driver.get(link)\n",
    "    \n",
    "    time.sleep(10) #could use WebDriverWait and look for a page element but, again, just a weekend project\n",
    "    \n",
    "    # Might be too lazy to build this to fit different naming conventions\n",
    "    # This just takes the ID from the database and concat's to a hard coded value\n",
    "    # It's a weekend project...\n",
    "    tmp_file_name = 'D:\\Projects\\Python\\ML_PDF\\Screenshots\\ML_PDF_Screenshot_' + str(file_name) + '.png'\n",
    "    \n",
    "    driver.save_screenshot(tmp_file_name)\n",
    "    \n",
    "    driver.close()"
   ]
  },
  {
   "cell_type": "code",
   "execution_count": null,
   "metadata": {},
   "outputs": [],
   "source": [
    "for item in ml_pdfs:\n",
    "    Load_N_Screenshot(item[1], item[0])"
   ]
  },
  {
   "cell_type": "markdown",
   "metadata": {},
   "source": [
    "<strong>Download the first 20 pdfs</strong>"
   ]
  },
  {
   "cell_type": "code",
   "execution_count": null,
   "metadata": {},
   "outputs": [],
   "source": [
    "for i,item in enumerate(ml_pdfs):\n",
    "    if i < 20: # don't want to download every PDF for a weekend project\n",
    "        tmp_file_name = 'D:\\Projects\\Python\\ML_PDF\\PDF\\ML_PDF_' + str(item[0]) + '.pdf'\n",
    "        try:\n",
    "            wget.download(item[1],tmp_file_name)\n",
    "        except:\n",
    "            pass"
   ]
  }
 ],
 "metadata": {
  "kernelspec": {
   "display_name": "Python 3",
   "language": "python",
   "name": "python3"
  },
  "language_info": {
   "codemirror_mode": {
    "name": "ipython",
    "version": 3
   },
   "file_extension": ".py",
   "mimetype": "text/x-python",
   "name": "python",
   "nbconvert_exporter": "python",
   "pygments_lexer": "ipython3",
   "version": "3.8.3"
  }
 },
 "nbformat": 4,
 "nbformat_minor": 4
}
